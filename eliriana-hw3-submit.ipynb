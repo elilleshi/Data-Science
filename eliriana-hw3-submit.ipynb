{
 "cells": [
  {
   "cell_type": "code",
   "execution_count": 1,
   "metadata": {},
   "outputs": [],
   "source": [
    "# Eliriana Lleshi \n",
    "# HW3 Part 1\n",
    "\n",
    "##### Part 1A \n",
    "\n",
    "import pandas as pd\n",
    "import io\n",
    "import requests\n",
    "import urllib3\n",
    "urllib3.disable_warnings()\n",
    "url = \"https://archive.ics.uci.edu/ml/machine-learning-databases/wine-quality/winequality-red.csv\"\n",
    "s = requests.get(url, verify=False).content\n",
    "df = pd.read_csv(io.StringIO(s.decode('utf-8')), delimiter = ';')"
   ]
  },
  {
   "cell_type": "code",
   "execution_count": 2,
   "metadata": {},
   "outputs": [
    {
     "data": {
      "text/html": [
       "<div>\n",
       "<style scoped>\n",
       "    .dataframe tbody tr th:only-of-type {\n",
       "        vertical-align: middle;\n",
       "    }\n",
       "\n",
       "    .dataframe tbody tr th {\n",
       "        vertical-align: top;\n",
       "    }\n",
       "\n",
       "    .dataframe thead th {\n",
       "        text-align: right;\n",
       "    }\n",
       "</style>\n",
       "<table border=\"1\" class=\"dataframe\">\n",
       "  <thead>\n",
       "    <tr style=\"text-align: right;\">\n",
       "      <th></th>\n",
       "      <th>fixed acidity</th>\n",
       "      <th>volatile acidity</th>\n",
       "      <th>citric acid</th>\n",
       "      <th>residual sugar</th>\n",
       "      <th>chlorides</th>\n",
       "      <th>free sulfur dioxide</th>\n",
       "      <th>total sulfur dioxide</th>\n",
       "      <th>density</th>\n",
       "      <th>pH</th>\n",
       "      <th>sulphates</th>\n",
       "      <th>alcohol</th>\n",
       "      <th>quality</th>\n",
       "    </tr>\n",
       "  </thead>\n",
       "  <tbody>\n",
       "    <tr>\n",
       "      <td>0</td>\n",
       "      <td>7.4</td>\n",
       "      <td>0.70</td>\n",
       "      <td>0.00</td>\n",
       "      <td>1.9</td>\n",
       "      <td>0.076</td>\n",
       "      <td>11.0</td>\n",
       "      <td>34.0</td>\n",
       "      <td>0.9978</td>\n",
       "      <td>3.51</td>\n",
       "      <td>0.56</td>\n",
       "      <td>9.4</td>\n",
       "      <td>5</td>\n",
       "    </tr>\n",
       "    <tr>\n",
       "      <td>1</td>\n",
       "      <td>7.8</td>\n",
       "      <td>0.88</td>\n",
       "      <td>0.00</td>\n",
       "      <td>2.6</td>\n",
       "      <td>0.098</td>\n",
       "      <td>25.0</td>\n",
       "      <td>67.0</td>\n",
       "      <td>0.9968</td>\n",
       "      <td>3.20</td>\n",
       "      <td>0.68</td>\n",
       "      <td>9.8</td>\n",
       "      <td>5</td>\n",
       "    </tr>\n",
       "    <tr>\n",
       "      <td>2</td>\n",
       "      <td>7.8</td>\n",
       "      <td>0.76</td>\n",
       "      <td>0.04</td>\n",
       "      <td>2.3</td>\n",
       "      <td>0.092</td>\n",
       "      <td>15.0</td>\n",
       "      <td>54.0</td>\n",
       "      <td>0.9970</td>\n",
       "      <td>3.26</td>\n",
       "      <td>0.65</td>\n",
       "      <td>9.8</td>\n",
       "      <td>5</td>\n",
       "    </tr>\n",
       "    <tr>\n",
       "      <td>3</td>\n",
       "      <td>11.2</td>\n",
       "      <td>0.28</td>\n",
       "      <td>0.56</td>\n",
       "      <td>1.9</td>\n",
       "      <td>0.075</td>\n",
       "      <td>17.0</td>\n",
       "      <td>60.0</td>\n",
       "      <td>0.9980</td>\n",
       "      <td>3.16</td>\n",
       "      <td>0.58</td>\n",
       "      <td>9.8</td>\n",
       "      <td>6</td>\n",
       "    </tr>\n",
       "    <tr>\n",
       "      <td>4</td>\n",
       "      <td>7.4</td>\n",
       "      <td>0.70</td>\n",
       "      <td>0.00</td>\n",
       "      <td>1.9</td>\n",
       "      <td>0.076</td>\n",
       "      <td>11.0</td>\n",
       "      <td>34.0</td>\n",
       "      <td>0.9978</td>\n",
       "      <td>3.51</td>\n",
       "      <td>0.56</td>\n",
       "      <td>9.4</td>\n",
       "      <td>5</td>\n",
       "    </tr>\n",
       "  </tbody>\n",
       "</table>\n",
       "</div>"
      ],
      "text/plain": [
       "   fixed acidity  volatile acidity  citric acid  residual sugar  chlorides  \\\n",
       "0            7.4              0.70         0.00             1.9      0.076   \n",
       "1            7.8              0.88         0.00             2.6      0.098   \n",
       "2            7.8              0.76         0.04             2.3      0.092   \n",
       "3           11.2              0.28         0.56             1.9      0.075   \n",
       "4            7.4              0.70         0.00             1.9      0.076   \n",
       "\n",
       "   free sulfur dioxide  total sulfur dioxide  density    pH  sulphates  \\\n",
       "0                 11.0                  34.0   0.9978  3.51       0.56   \n",
       "1                 25.0                  67.0   0.9968  3.20       0.68   \n",
       "2                 15.0                  54.0   0.9970  3.26       0.65   \n",
       "3                 17.0                  60.0   0.9980  3.16       0.58   \n",
       "4                 11.0                  34.0   0.9978  3.51       0.56   \n",
       "\n",
       "   alcohol  quality  \n",
       "0      9.4        5  \n",
       "1      9.8        5  \n",
       "2      9.8        5  \n",
       "3      9.8        6  \n",
       "4      9.4        5  "
      ]
     },
     "execution_count": 2,
     "metadata": {},
     "output_type": "execute_result"
    }
   ],
   "source": [
    "df.head(5)"
   ]
  },
  {
   "cell_type": "code",
   "execution_count": 3,
   "metadata": {},
   "outputs": [],
   "source": [
    "# red_wines_array stores attributes \n",
    "import numpy as np\n",
    "quality = df['quality'].values\n",
    "red_wines_array = df.drop(columns = ['quality']).values"
   ]
  },
  {
   "cell_type": "code",
   "execution_count": 4,
   "metadata": {},
   "outputs": [
    {
     "data": {
      "text/plain": [
       "array([[0.],\n",
       "       [0.],\n",
       "       [0.],\n",
       "       ...,\n",
       "       [0.],\n",
       "       [0.],\n",
       "       [0.]])"
      ]
     },
     "execution_count": 4,
     "metadata": {},
     "output_type": "execute_result"
    }
   ],
   "source": [
    "# target array stores the target \"quality\" with binary values\n",
    "target = np.zeros((len(quality),1))\n",
    "target[quality >=7] = 1\n",
    "target"
   ]
  },
  {
   "cell_type": "code",
   "execution_count": 5,
   "metadata": {},
   "outputs": [],
   "source": [
    "##### PART 1B\n",
    "\n",
    "from sklearn.model_selection import cross_val_score\n",
    "import warnings\n",
    "import sklearn.exceptions\n",
    "warnings.filterwarnings(\"ignore\", category=sklearn.exceptions.UndefinedMetricWarning)\n"
   ]
  },
  {
   "cell_type": "code",
   "execution_count": 19,
   "metadata": {},
   "outputs": [],
   "source": [
    "import seaborn as sns\n",
    "from sklearn.neighbors import KNeighborsClassifier\n",
    "# search for an optimal value of K for KNN\n",
    "\n",
    "# range of k we want to try\n",
    "k_range = range(2, 11)\n",
    "knn_df=pd.DataFrame()\n",
    "df_scores=pd.DataFrame()\n",
    "\n",
    "for k in k_range:\n",
    "    knn = KNeighborsClassifier(n_neighbors=k)\n",
    "    # get cross_val_score for loop value of k neighbours\n",
    "    scores = cross_val_score(knn, red_wines_array, target.ravel(), cv=10, scoring='f1')\n",
    "    # convert list of scores returned from cross_val_score + column k to a dataframe\n",
    "    df_scores = pd.DataFrame({\"f1\":scores,\"k\":k})\n",
    "    # append df_scores dataframes returned for each k\n",
    "    knn_df = pd.concat([df_scores, knn_df])"
   ]
  },
  {
   "cell_type": "code",
   "execution_count": 20,
   "metadata": {},
   "outputs": [
    {
     "data": {
      "image/png": "[encoded data removed]",
      "text/plain": [
       "<Figure size 432x288 with 1 Axes>"
      ]
     },
     "metadata": {
      "needs_background": "light"
     },
     "output_type": "display_data"
    }
   ],
   "source": [
    "import seaborn as sns\n",
    "ax = sns.boxplot(  x=\"k\" , y = \"f1\" , data= knn_df)\n",
    "ax.set_title(\"F-scores for each k value\");"
   ]
  },
  {
   "cell_type": "code",
   "execution_count": 8,
   "metadata": {},
   "outputs": [],
   "source": [
    "##### PART 1C\n",
    "\n",
    "from sklearn import metrics\n",
    "from sklearn.model_selection import train_test_split\n",
    "wines_features_train, wines_features_test, wines_labels_train, wines_labels_test = train_test_split(red_wines_array, target.ravel(), test_size=0.33, random_state=42)"
   ]
  },
  {
   "cell_type": "code",
   "execution_count": 9,
   "metadata": {},
   "outputs": [],
   "source": [
    "from sklearn import tree #For our Decision Tree\n",
    "from sklearn.tree import DecisionTreeClassifier\n",
    "from graphviz import Digraph\n",
    "from sklearn import metrics\n",
    "\n",
    "dtree8 = DecisionTreeClassifier(max_depth = 8)\n",
    "dtree6 = DecisionTreeClassifier(max_depth = 6)\n",
    "dtree4 = DecisionTreeClassifier(max_depth = 4)\n",
    "dtree2 = DecisionTreeClassifier(max_depth = 2)\n",
    "\n",
    "dtree8.fit(wines_features_train,wines_labels_train)\n",
    "dtree6.fit(wines_features_train,wines_labels_train)\n",
    "dtree4.fit(wines_features_train,wines_labels_train)\n",
    "dtree2.fit(wines_features_train,wines_labels_train)\n",
    "\n",
    "predictions_test8 = dtree8.predict(wines_features_test)\n",
    "predictions_test6 = dtree6.predict(wines_features_test)\n",
    "predictions_test4 = dtree4.predict(wines_features_test)\n",
    "predictions_test2 = dtree4.predict(wines_features_test)"
   ]
  },
  {
   "cell_type": "code",
   "execution_count": 10,
   "metadata": {},
   "outputs": [],
   "source": [
    "cm8 = metrics.confusion_matrix(wines_labels_test,predictions_test8)\n",
    "cm6 = metrics.confusion_matrix(wines_labels_test,predictions_test6)\n",
    "cm4 = metrics.confusion_matrix(wines_labels_test,predictions_test4)\n",
    "cm2 = metrics.confusion_matrix(wines_labels_test,predictions_test2)"
   ]
  },
  {
   "cell_type": "code",
   "execution_count": 11,
   "metadata": {},
   "outputs": [
    {
     "name": "stdout",
     "output_type": "stream",
     "text": [
      "Precision(depth 8):  0.5131578947368421\n",
      "Recall(depth 8):  0.8579545454545454\n",
      "Accuracy(depth 8):  0.8579545454545454\n",
      "F1 score(depth 8):  0.6422028353326064\n"
     ]
    }
   ],
   "source": [
    "P =  metrics.precision_score(wines_labels_test,predictions_test8)\n",
    "R = metrics.accuracy_score(wines_labels_test,predictions_test8)\n",
    "F1 = 2*P*R/(P+R)\n",
    "\n",
    "print(\"Precision(depth 8): \", P)\n",
    "print(\"Recall(depth 8): \", R)\n",
    "print(\"Accuracy(depth 8): \", metrics.accuracy_score(wines_labels_test,predictions_test8))\n",
    "print(\"F1 score(depth 8)\"\": \", F1)"
   ]
  },
  {
   "cell_type": "code",
   "execution_count": 12,
   "metadata": {},
   "outputs": [
    {
     "name": "stdout",
     "output_type": "stream",
     "text": [
      "Precision(depth 6):  0.5178571428571429\n",
      "Recall(depth 6):  0.8579545454545454\n",
      "Accuracy(depth 6):  0.8579545454545454\n",
      "F1 score(depth 6):  0.6458702064896756\n"
     ]
    }
   ],
   "source": [
    "P =  metrics.precision_score(wines_labels_test,predictions_test6)\n",
    "R = metrics.accuracy_score(wines_labels_test,predictions_test6)\n",
    "F1 = 2*P*R/(P+R)\n",
    "\n",
    "print(\"Precision(depth 6): \", P)\n",
    "print(\"Recall(depth 6): \", R)\n",
    "print(\"Accuracy(depth 6): \", metrics.accuracy_score(wines_labels_test,predictions_test6))\n",
    "print(\"F1 score(depth 6)\"\": \", F1)"
   ]
  },
  {
   "cell_type": "code",
   "execution_count": 13,
   "metadata": {},
   "outputs": [
    {
     "name": "stdout",
     "output_type": "stream",
     "text": [
      "Precision(depth 4):  0.5370370370370371\n",
      "Recall(depth 4):  0.8617424242424242\n",
      "Accuracy(depth 4):  0.8617424242424242\n",
      "F1 score(depth 4):  0.6617020209618375\n"
     ]
    }
   ],
   "source": [
    "P =  metrics.precision_score(wines_labels_test,predictions_test4)\n",
    "R = metrics.accuracy_score(wines_labels_test,predictions_test4)\n",
    "F1 = 2*P*R/(P+R)\n",
    "\n",
    "print(\"Precision(depth 4): \", P)\n",
    "print(\"Recall(depth 4): \", R)\n",
    "print(\"Accuracy(depth 4): \", metrics.accuracy_score(wines_labels_test,predictions_test4))\n",
    "print(\"F1 score(depth 4)\"\": \", F1)"
   ]
  },
  {
   "cell_type": "code",
   "execution_count": 14,
   "metadata": {},
   "outputs": [
    {
     "name": "stdout",
     "output_type": "stream",
     "text": [
      "Precision(depth 2):  0.5370370370370371\n",
      "Recall(depth 2):  0.8617424242424242\n",
      "Accuracy(depth 2):  0.8617424242424242\n",
      "F1 score(depth 2):  0.6617020209618375\n"
     ]
    }
   ],
   "source": [
    "P =  metrics.precision_score(wines_labels_test,predictions_test2)\n",
    "R = metrics.accuracy_score(wines_labels_test,predictions_test2)\n",
    "F1 = 2*P*R/(P+R)\n",
    "\n",
    "print(\"Precision(depth 2): \", P)\n",
    "print(\"Recall(depth 2): \", R)\n",
    "print(\"Accuracy(depth 2): \", metrics.accuracy_score(wines_labels_test,predictions_test2))\n",
    "print(\"F1 score(depth 2)\"\": \", F1)"
   ]
  },
  {
   "cell_type": "code",
   "execution_count": 15,
   "metadata": {},
   "outputs": [],
   "source": [
    "dtree8_prob = dtree8.predict_proba(wines_features_test)\n",
    "dtree6_prob = dtree6.predict_proba(wines_features_test)\n",
    "dtree4_prob = dtree4.predict_proba(wines_features_test)\n",
    "dtree2_prob = dtree2.predict_proba(wines_features_test)"
   ]
  },
  {
   "cell_type": "code",
   "execution_count": 16,
   "metadata": {},
   "outputs": [],
   "source": [
    "fpr8, tpr8, thresholds8 = metrics.roc_curve(wines_labels_test, dtree8_prob[:,1], pos_label=1, sample_weight=None)\n",
    "fpr6, tpr6, thresholds6 = metrics.roc_curve(wines_labels_test, dtree6_prob[:,1], pos_label=1, sample_weight=None)\n",
    "fpr4, tpr4, thresholds4 = metrics.roc_curve(wines_labels_test, dtree4_prob[:,1], pos_label=1, sample_weight=None)\n",
    "fpr2, tpr2, thresholds2 = metrics.roc_curve(wines_labels_test, dtree2_prob[:,1], pos_label=1, sample_weight=None)"
   ]
  },
  {
   "cell_type": "code",
   "execution_count": 17,
   "metadata": {},
   "outputs": [
    {
     "data": {
      "image/png": "[encoded data removed]",
      "text/plain": [
       "<Figure size 360x360 with 1 Axes>"
      ]
     },
     "metadata": {
      "needs_background": "light"
     },
     "output_type": "display_data"
    }
   ],
   "source": [
    "# plot TPR vs FPR for each decision trees, along with x=y line \n",
    "\n",
    "import matplotlib\n",
    "import matplotlib.pyplot as plt\n",
    "%matplotlib inline \n",
    "plt.figure(figsize=(5,5))\n",
    "plt.plot(fpr8,tpr8,linewidth=2.0, color='y', label = \"tree-depth8\")\n",
    "plt.plot(fpr6,tpr6,linewidth=2.0, color='b', label = \"tree-depth6\")\n",
    "plt.plot(fpr4,tpr4,linewidth=2.0, color='r', label = \"tree-depth4\")\n",
    "plt.plot(fpr2,tpr2,linewidth=2.0, color='g', label = \"tree-depth2\")\n",
    "plt.xlabel('False positive rate')\n",
    "plt.ylabel('True positive rate')\n",
    "plt.xlim([0,1])\n",
    "plt.ylim([0,1])\n",
    "ident = [0.0, 1.0]\n",
    "plt.plot(ident,ident, ls=\"--\", c=\".3\")\n",
    "plt.legend();"
   ]
  },
  {
   "cell_type": "code",
   "execution_count": 18,
   "metadata": {},
   "outputs": [
    {
     "data": {
      "image/svg+xml": [
       "<?xml version=\"1.0\" encoding=\"UTF-8\" standalone=\"no\"?>\n",
       "<!DOCTYPE svg PUBLIC \"-//W3C//DTD SVG 1.1//EN\"\n",
       " \"http://www.w3.org/Graphics/SVG/1.1/DTD/svg11.dtd\">\n",
       "<!-- Generated by graphviz version 2.40.1 (20161225.0304)\n",
       " -->\n",
       "<!-- Title: Tree Pages: 1 -->\n",
       "<svg width=\"529pt\" height=\"269pt\"\n",
       " viewBox=\"0.00 0.00 528.50 269.00\" xmlns=\"http://www.w3.org/2000/svg\" xmlns:xlink=\"http://www.w3.org/1999/xlink\">\n",
       "<g id=\"graph0\" class=\"graph\" transform=\"scale(1 1) rotate(0) translate(4 265)\">\n",
       "<title>Tree</title>\n",
       "<polygon fill=\"#ffffff\" stroke=\"transparent\" points=\"-4,4 -4,-265 524.5,-265 524.5,4 -4,4\"/>\n",
       "<!-- 0 -->\n",
       "<g id=\"node1\" class=\"node\">\n",
       "<title>0</title>\n",
       "<path fill=\"#e99457\" stroke=\"#000000\" d=\"M317,-261C317,-261 213,-261 213,-261 207,-261 201,-255 201,-249 201,-249 201,-205 201,-205 201,-199 207,-193 213,-193 213,-193 317,-193 317,-193 323,-193 329,-199 329,-205 329,-205 329,-249 329,-249 329,-255 323,-261 317,-261\"/>\n",
       "<text text-anchor=\"middle\" x=\"265\" y=\"-245.8\" font-family=\"Helvetica,sans-Serif\" font-size=\"14.00\" fill=\"#000000\">X[10] &lt;= 11.55</text>\n",
       "<text text-anchor=\"middle\" x=\"265\" y=\"-230.8\" font-family=\"Helvetica,sans-Serif\" font-size=\"14.00\" fill=\"#000000\">gini = 0.227</text>\n",
       "<text text-anchor=\"middle\" x=\"265\" y=\"-215.8\" font-family=\"Helvetica,sans-Serif\" font-size=\"14.00\" fill=\"#000000\">samples = 1071</text>\n",
       "<text text-anchor=\"middle\" x=\"265\" y=\"-200.8\" font-family=\"Helvetica,sans-Serif\" font-size=\"14.00\" fill=\"#000000\">value = [931, 140]</text>\n",
       "</g>\n",
       "<!-- 1 -->\n",
       "<g id=\"node2\" class=\"node\">\n",
       "<title>1</title>\n",
       "<path fill=\"#e78a48\" stroke=\"#000000\" d=\"M246,-157C246,-157 150,-157 150,-157 144,-157 138,-151 138,-145 138,-145 138,-101 138,-101 138,-95 144,-89 150,-89 150,-89 246,-89 246,-89 252,-89 258,-95 258,-101 258,-101 258,-145 258,-145 258,-151 252,-157 246,-157\"/>\n",
       "<text text-anchor=\"middle\" x=\"198\" y=\"-141.8\" font-family=\"Helvetica,sans-Serif\" font-size=\"14.00\" fill=\"#000000\">X[1] &lt;= 0.375</text>\n",
       "<text text-anchor=\"middle\" x=\"198\" y=\"-126.8\" font-family=\"Helvetica,sans-Serif\" font-size=\"14.00\" fill=\"#000000\">gini = 0.129</text>\n",
       "<text text-anchor=\"middle\" x=\"198\" y=\"-111.8\" font-family=\"Helvetica,sans-Serif\" font-size=\"14.00\" fill=\"#000000\">samples = 908</text>\n",
       "<text text-anchor=\"middle\" x=\"198\" y=\"-96.8\" font-family=\"Helvetica,sans-Serif\" font-size=\"14.00\" fill=\"#000000\">value = [845, 63]</text>\n",
       "</g>\n",
       "<!-- 0&#45;&gt;1 -->\n",
       "<g id=\"edge1\" class=\"edge\">\n",
       "<title>0&#45;&gt;1</title>\n",
       "<path fill=\"none\" stroke=\"#000000\" d=\"M243.0617,-192.9465C237.451,-184.2373 231.3471,-174.7626 225.4958,-165.6801\"/>\n",
       "<polygon fill=\"#000000\" stroke=\"#000000\" points=\"228.3457,-163.641 219.9876,-157.13 222.4611,-167.4321 228.3457,-163.641\"/>\n",
       "<text text-anchor=\"middle\" x=\"214.7006\" y=\"-177.8646\" font-family=\"Helvetica,sans-Serif\" font-size=\"14.00\" fill=\"#000000\">True</text>\n",
       "</g>\n",
       "<!-- 4 -->\n",
       "<g id=\"node5\" class=\"node\">\n",
       "<title>4</title>\n",
       "<path fill=\"#fcf2ea\" stroke=\"#000000\" d=\"M377.5,-157C377.5,-157 288.5,-157 288.5,-157 282.5,-157 276.5,-151 276.5,-145 276.5,-145 276.5,-101 276.5,-101 276.5,-95 282.5,-89 288.5,-89 288.5,-89 377.5,-89 377.5,-89 383.5,-89 389.5,-95 389.5,-101 389.5,-101 389.5,-145 389.5,-145 389.5,-151 383.5,-157 377.5,-157\"/>\n",
       "<text text-anchor=\"middle\" x=\"333\" y=\"-141.8\" font-family=\"Helvetica,sans-Serif\" font-size=\"14.00\" fill=\"#000000\">X[9] &lt;= 0.685</text>\n",
       "<text text-anchor=\"middle\" x=\"333\" y=\"-126.8\" font-family=\"Helvetica,sans-Serif\" font-size=\"14.00\" fill=\"#000000\">gini = 0.498</text>\n",
       "<text text-anchor=\"middle\" x=\"333\" y=\"-111.8\" font-family=\"Helvetica,sans-Serif\" font-size=\"14.00\" fill=\"#000000\">samples = 163</text>\n",
       "<text text-anchor=\"middle\" x=\"333\" y=\"-96.8\" font-family=\"Helvetica,sans-Serif\" font-size=\"14.00\" fill=\"#000000\">value = [86, 77]</text>\n",
       "</g>\n",
       "<!-- 0&#45;&gt;4 -->\n",
       "<g id=\"edge4\" class=\"edge\">\n",
       "<title>0&#45;&gt;4</title>\n",
       "<path fill=\"none\" stroke=\"#000000\" d=\"M287.2657,-192.9465C292.9602,-184.2373 299.1552,-174.7626 305.0938,-165.6801\"/>\n",
       "<polygon fill=\"#000000\" stroke=\"#000000\" points=\"308.1411,-167.4151 310.6842,-157.13 302.2823,-163.5843 308.1411,-167.4151\"/>\n",
       "<text text-anchor=\"middle\" x=\"315.8058\" y=\"-177.8998\" font-family=\"Helvetica,sans-Serif\" font-size=\"14.00\" fill=\"#000000\">False</text>\n",
       "</g>\n",
       "<!-- 2 -->\n",
       "<g id=\"node3\" class=\"node\">\n",
       "<title>2</title>\n",
       "<path fill=\"#eca470\" stroke=\"#000000\" d=\"M108,-53C108,-53 12,-53 12,-53 6,-53 0,-47 0,-41 0,-41 0,-12 0,-12 0,-6 6,0 12,0 12,0 108,0 108,0 114,0 120,-6 120,-12 120,-12 120,-41 120,-41 120,-47 114,-53 108,-53\"/>\n",
       "<text text-anchor=\"middle\" x=\"60\" y=\"-37.8\" font-family=\"Helvetica,sans-Serif\" font-size=\"14.00\" fill=\"#000000\">gini = 0.341</text>\n",
       "<text text-anchor=\"middle\" x=\"60\" y=\"-22.8\" font-family=\"Helvetica,sans-Serif\" font-size=\"14.00\" fill=\"#000000\">samples = 156</text>\n",
       "<text text-anchor=\"middle\" x=\"60\" y=\"-7.8\" font-family=\"Helvetica,sans-Serif\" font-size=\"14.00\" fill=\"#000000\">value = [122, 34]</text>\n",
       "</g>\n",
       "<!-- 1&#45;&gt;2 -->\n",
       "<g id=\"edge2\" class=\"edge\">\n",
       "<title>1&#45;&gt;2</title>\n",
       "<path fill=\"none\" stroke=\"#000000\" d=\"M149.3464,-88.9777C135.4657,-79.2713 120.3786,-68.7213 106.6223,-59.1018\"/>\n",
       "<polygon fill=\"#000000\" stroke=\"#000000\" points=\"108.4526,-56.1109 98.2517,-53.2485 104.4411,-61.8475 108.4526,-56.1109\"/>\n",
       "</g>\n",
       "<!-- 3 -->\n",
       "<g id=\"node4\" class=\"node\">\n",
       "<title>3</title>\n",
       "<path fill=\"#e68641\" stroke=\"#000000\" d=\"M246,-53C246,-53 150,-53 150,-53 144,-53 138,-47 138,-41 138,-41 138,-12 138,-12 138,-6 144,0 150,0 150,0 246,0 246,0 252,0 258,-6 258,-12 258,-12 258,-41 258,-41 258,-47 252,-53 246,-53\"/>\n",
       "<text text-anchor=\"middle\" x=\"198\" y=\"-37.8\" font-family=\"Helvetica,sans-Serif\" font-size=\"14.00\" fill=\"#000000\">gini = 0.074</text>\n",
       "<text text-anchor=\"middle\" x=\"198\" y=\"-22.8\" font-family=\"Helvetica,sans-Serif\" font-size=\"14.00\" fill=\"#000000\">samples = 752</text>\n",
       "<text text-anchor=\"middle\" x=\"198\" y=\"-7.8\" font-family=\"Helvetica,sans-Serif\" font-size=\"14.00\" fill=\"#000000\">value = [723, 29]</text>\n",
       "</g>\n",
       "<!-- 1&#45;&gt;3 -->\n",
       "<g id=\"edge3\" class=\"edge\">\n",
       "<title>1&#45;&gt;3</title>\n",
       "<path fill=\"none\" stroke=\"#000000\" d=\"M198,-88.9777C198,-80.7364 198,-71.887 198,-63.5153\"/>\n",
       "<polygon fill=\"#000000\" stroke=\"#000000\" points=\"201.5001,-63.2484 198,-53.2485 194.5001,-63.2485 201.5001,-63.2484\"/>\n",
       "</g>\n",
       "<!-- 5 -->\n",
       "<g id=\"node6\" class=\"node\">\n",
       "<title>5</title>\n",
       "<path fill=\"#efb286\" stroke=\"#000000\" d=\"M377.5,-53C377.5,-53 288.5,-53 288.5,-53 282.5,-53 276.5,-47 276.5,-41 276.5,-41 276.5,-12 276.5,-12 276.5,-6 282.5,0 288.5,0 288.5,0 377.5,0 377.5,0 383.5,0 389.5,-6 389.5,-12 389.5,-12 389.5,-41 389.5,-41 389.5,-47 383.5,-53 377.5,-53\"/>\n",
       "<text text-anchor=\"middle\" x=\"333\" y=\"-37.8\" font-family=\"Helvetica,sans-Serif\" font-size=\"14.00\" fill=\"#000000\">gini = 0.404</text>\n",
       "<text text-anchor=\"middle\" x=\"333\" y=\"-22.8\" font-family=\"Helvetica,sans-Serif\" font-size=\"14.00\" fill=\"#000000\">samples = 89</text>\n",
       "<text text-anchor=\"middle\" x=\"333\" y=\"-7.8\" font-family=\"Helvetica,sans-Serif\" font-size=\"14.00\" fill=\"#000000\">value = [64, 25]</text>\n",
       "</g>\n",
       "<!-- 4&#45;&gt;5 -->\n",
       "<g id=\"edge5\" class=\"edge\">\n",
       "<title>4&#45;&gt;5</title>\n",
       "<path fill=\"none\" stroke=\"#000000\" d=\"M333,-88.9777C333,-80.7364 333,-71.887 333,-63.5153\"/>\n",
       "<polygon fill=\"#000000\" stroke=\"#000000\" points=\"336.5001,-63.2484 333,-53.2485 329.5001,-63.2485 336.5001,-63.2484\"/>\n",
       "</g>\n",
       "<!-- 6 -->\n",
       "<g id=\"node7\" class=\"node\">\n",
       "<title>6</title>\n",
       "<path fill=\"#8dc6f0\" stroke=\"#000000\" d=\"M508.5,-53C508.5,-53 419.5,-53 419.5,-53 413.5,-53 407.5,-47 407.5,-41 407.5,-41 407.5,-12 407.5,-12 407.5,-6 413.5,0 419.5,0 419.5,0 508.5,0 508.5,0 514.5,0 520.5,-6 520.5,-12 520.5,-12 520.5,-41 520.5,-41 520.5,-47 514.5,-53 508.5,-53\"/>\n",
       "<text text-anchor=\"middle\" x=\"464\" y=\"-37.8\" font-family=\"Helvetica,sans-Serif\" font-size=\"14.00\" fill=\"#000000\">gini = 0.418</text>\n",
       "<text text-anchor=\"middle\" x=\"464\" y=\"-22.8\" font-family=\"Helvetica,sans-Serif\" font-size=\"14.00\" fill=\"#000000\">samples = 74</text>\n",
       "<text text-anchor=\"middle\" x=\"464\" y=\"-7.8\" font-family=\"Helvetica,sans-Serif\" font-size=\"14.00\" fill=\"#000000\">value = [22, 52]</text>\n",
       "</g>\n",
       "<!-- 4&#45;&gt;6 -->\n",
       "<g id=\"edge6\" class=\"edge\">\n",
       "<title>4&#45;&gt;6</title>\n",
       "<path fill=\"none\" stroke=\"#000000\" d=\"M379.1857,-88.9777C392.2379,-79.3629 406.4139,-68.9203 419.3727,-59.3743\"/>\n",
       "<polygon fill=\"#000000\" stroke=\"#000000\" points=\"421.7131,-61.9974 427.6886,-53.2485 417.5614,-56.3615 421.7131,-61.9974\"/>\n",
       "</g>\n",
       "</g>\n",
       "</svg>\n"
      ],
      "text/plain": [
       "<graphviz.files.Source at 0x1a2380f128>"
      ]
     },
     "execution_count": 18,
     "metadata": {},
     "output_type": "execute_result"
    }
   ],
   "source": [
    "# Decision tree of depth 2 \n",
    "    # From the curves, high depth performs slightly better for small FPR \n",
    "    # and small depth models performs slightly better for large FPR\n",
    "    # depth-2 has a better accuracy and F1 score than depth-8\n",
    "\n",
    "import os\n",
    "import graphviz \n",
    "from sklearn.tree import export_graphviz\n",
    "\n",
    "dot_data = tree.export_graphviz(dtree2,\n",
    "            filled = True,\n",
    "            rounded = True)\n",
    "\n",
    "graph = graphviz.Source(dot_data) \n",
    "\n",
    "# display decision tree with splits \n",
    "graph"
   ]
  }
 ],
 "metadata": {
  "kernelspec": {
   "display_name": "Python 3",
   "language": "python",
   "name": "python3"
  },
  "language_info": {
   "codemirror_mode": {
    "name": "ipython",
    "version": 3
   },
   "file_extension": ".py",
   "mimetype": "text/x-python",
   "name": "python",
   "nbconvert_exporter": "python",
   "pygments_lexer": "ipython3",
   "version": "3.6.9"
  }
 },
 "nbformat": 4,
 "nbformat_minor": 2
}
